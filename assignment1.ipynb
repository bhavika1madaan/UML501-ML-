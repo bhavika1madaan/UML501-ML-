{
  "nbformat": 4,
  "nbformat_minor": 0,
  "metadata": {
    "colab": {
      "provenance": []
    },
    "kernelspec": {
      "name": "python3",
      "display_name": "Python 3"
    },
    "language_info": {
      "name": "python"
    }
  },
  "cells": [
    {
      "cell_type": "markdown",
      "source": [
        "Q.1(a)"
      ],
      "metadata": {
        "id": "fpGvVBQR9TtD"
      }
    },
    {
      "cell_type": "code",
      "execution_count": 1,
      "metadata": {
        "colab": {
          "base_uri": "https://localhost:8080/"
        },
        "id": "E_ZSmJ3c8Wp9",
        "outputId": "e03be257-8811-4615-b155-dab35086e3ca"
      },
      "outputs": [
        {
          "output_type": "stream",
          "name": "stdout",
          "text": [
            "[5 4 6 3 2 1]\n"
          ]
        }
      ],
      "source": [
        "import numpy as np\n",
        "arr= np.array([1, 2, 3, 6, 4, 5])\n",
        "reversed_arr = arr[::-1]\n",
        "print(reversed_arr)"
      ]
    },
    {
      "cell_type": "markdown",
      "source": [
        "Q.1(b)"
      ],
      "metadata": {
        "id": "R-IkhiON9SPh"
      }
    },
    {
      "cell_type": "code",
      "source": [
        "array1 = np.array([[1, 2, 3], [2, 4, 5], [1, 2, 3]])\n",
        "print(array1.flatten())"
      ],
      "metadata": {
        "colab": {
          "base_uri": "https://localhost:8080/"
        },
        "id": "qdAnPCzN9hMm",
        "outputId": "1aafb0b9-aaf2-412b-8791-9c9bbac0cc60"
      },
      "execution_count": 2,
      "outputs": [
        {
          "output_type": "stream",
          "name": "stdout",
          "text": [
            "[1 2 3 2 4 5 1 2 3]\n"
          ]
        }
      ]
    },
    {
      "cell_type": "code",
      "source": [
        "array1 = np.array([[1, 2, 3], [2, 4, 5], [1, 2, 3]])\n",
        "print(array1.ravel())"
      ],
      "metadata": {
        "colab": {
          "base_uri": "https://localhost:8080/"
        },
        "id": "mitBoRc191Do",
        "outputId": "601276a1-e8aa-4871-9079-af37a7519778"
      },
      "execution_count": 3,
      "outputs": [
        {
          "output_type": "stream",
          "name": "stdout",
          "text": [
            "[1 2 3 2 4 5 1 2 3]\n"
          ]
        }
      ]
    },
    {
      "cell_type": "markdown",
      "source": [
        "Q.1(c)"
      ],
      "metadata": {
        "id": "vCWx3F3g98Zn"
      }
    },
    {
      "cell_type": "code",
      "source": [
        "import numpy as np\n",
        "arr1 = np.array([[1, 2], [3, 4]])\n",
        "arr2 = np.array([[1, 2], [3, 4]])\n",
        "print(arr1 == arr2)\n"
      ],
      "metadata": {
        "colab": {
          "base_uri": "https://localhost:8080/"
        },
        "id": "F1TyF4y3-Al6",
        "outputId": "2224e485-b74f-44a3-a81a-aee7a50d6dd7"
      },
      "execution_count": 4,
      "outputs": [
        {
          "output_type": "stream",
          "name": "stdout",
          "text": [
            "[[ True  True]\n",
            " [ True  True]]\n"
          ]
        }
      ]
    },
    {
      "cell_type": "markdown",
      "source": [
        "Q.1(d)"
      ],
      "metadata": {
        "id": "__no3njw_qts"
      }
    },
    {
      "cell_type": "code",
      "source": [
        "import numpy as np\n",
        "x = np.array([1, 2, 3, 4, 5, 1, 2, 1, 1, 1])\n",
        "values, counts = np.unique(x, return_counts=True)\n",
        "most_frequent_value = values[np.argmax(counts)]\n",
        "indices = np.where(x == most_frequent_value)[0]\n",
        "print(\"Most frequent value in x:\", most_frequent_value)\n",
        "print(\"Indices:\", indices)"
      ],
      "metadata": {
        "colab": {
          "base_uri": "https://localhost:8080/"
        },
        "id": "PSnmGN5H_u69",
        "outputId": "c05de915-0144-40d6-a579-32560cd49d8a"
      },
      "execution_count": 5,
      "outputs": [
        {
          "output_type": "stream",
          "name": "stdout",
          "text": [
            "Most frequent value in x: 1\n",
            "Indices: [0 5 7 8 9]\n"
          ]
        }
      ]
    },
    {
      "cell_type": "code",
      "source": [
        "y = np.array([1, 1, 1, 2, 3, 4, 2, 4, 3, 3])\n",
        "values, counts = np.unique(y, return_counts=True)\n",
        "most_frequent_value = values[np.argmax(counts)]\n",
        "indices = np.where(y == most_frequent_value)[0]\n",
        "print(\"Most frequent value in y:\", most_frequent_value)\n",
        "print(\"Indices:\", indices)"
      ],
      "metadata": {
        "colab": {
          "base_uri": "https://localhost:8080/"
        },
        "id": "yfMSyWoYDl6e",
        "outputId": "45b9ad9d-e964-4435-f6d1-b697030d2a59"
      },
      "execution_count": 6,
      "outputs": [
        {
          "output_type": "stream",
          "name": "stdout",
          "text": [
            "Most frequent value in y: 1\n",
            "Indices: [0 1 2]\n"
          ]
        }
      ]
    },
    {
      "cell_type": "markdown",
      "source": [
        "Q.1(e)"
      ],
      "metadata": {
        "id": "0xyBJDtMDu5-"
      }
    },
    {
      "cell_type": "code",
      "source": [
        "import numpy as np\n",
        "gfg = np.matrix('[4, 1, 9; 12, 3, 1; 4, 5, 6]')\n"
      ],
      "metadata": {
        "id": "P5A15hU4EBIC"
      },
      "execution_count": 7,
      "outputs": []
    },
    {
      "cell_type": "code",
      "source": [
        "total_sum = gfg.sum()\n",
        "print(\"Sum of all elements:\", total_sum)"
      ],
      "metadata": {
        "colab": {
          "base_uri": "https://localhost:8080/"
        },
        "id": "IKdWWskkEJ1A",
        "outputId": "ee4342c9-cd65-439c-a6f8-c5b551c8b3a7"
      },
      "execution_count": 8,
      "outputs": [
        {
          "output_type": "stream",
          "name": "stdout",
          "text": [
            "Sum of all elements: 45\n"
          ]
        }
      ]
    },
    {
      "cell_type": "code",
      "source": [
        "row_wise_sum = gfg.sum(axis=1)\n",
        "print(\"Row-wise sum:\\n\", row_wise_sum)"
      ],
      "metadata": {
        "colab": {
          "base_uri": "https://localhost:8080/"
        },
        "id": "u0VCKnV-EQjz",
        "outputId": "980cbf5b-eee4-4d4c-ca20-8238bc3c062d"
      },
      "execution_count": 9,
      "outputs": [
        {
          "output_type": "stream",
          "name": "stdout",
          "text": [
            "Row-wise sum:\n",
            " [[14]\n",
            " [16]\n",
            " [15]]\n"
          ]
        }
      ]
    },
    {
      "cell_type": "code",
      "source": [
        "col_wise_sum = gfg.sum(axis=0)\n",
        "print(\"Column-wise sum:\\n\", col_wise_sum)"
      ],
      "metadata": {
        "colab": {
          "base_uri": "https://localhost:8080/"
        },
        "id": "mR7TNG1GFFTO",
        "outputId": "b2dec52c-f3b5-4296-fb1b-5daa01b5eaba"
      },
      "execution_count": 10,
      "outputs": [
        {
          "output_type": "stream",
          "name": "stdout",
          "text": [
            "Column-wise sum:\n",
            " [[20  9 16]]\n"
          ]
        }
      ]
    },
    {
      "cell_type": "markdown",
      "source": [
        "Q.1(f)"
      ],
      "metadata": {
        "id": "ANRqX0zbF_lg"
      }
    },
    {
      "cell_type": "code",
      "source": [
        "import numpy as np\n",
        "n_array = np.array([[55, 25, 15],\n",
        "                    [30, 44, 2],\n",
        "                    [11, 45, 77]])\n"
      ],
      "metadata": {
        "id": "s1Eqn9GJGC5g"
      },
      "execution_count": 11,
      "outputs": []
    },
    {
      "cell_type": "code",
      "source": [
        "diagonal_sum = np.trace(n_array)\n",
        "print(\"Sum of diagonal elements:\", diagonal_sum)"
      ],
      "metadata": {
        "colab": {
          "base_uri": "https://localhost:8080/"
        },
        "id": "SgddIELVGQlx",
        "outputId": "6625dc09-f61c-480f-d682-c2517f6f3d2c"
      },
      "execution_count": 12,
      "outputs": [
        {
          "output_type": "stream",
          "name": "stdout",
          "text": [
            "Sum of diagonal elements: 176\n"
          ]
        }
      ]
    },
    {
      "cell_type": "code",
      "source": [
        "eigenvalues = np.linalg.eigvals(n_array)\n",
        "print(\"Eigenvalues:\", eigenvalues)"
      ],
      "metadata": {
        "colab": {
          "base_uri": "https://localhost:8080/"
        },
        "id": "f_o-jPQcGX_a",
        "outputId": "6f173f1a-48e3-483e-c500-56e6586e5d3e"
      },
      "execution_count": 14,
      "outputs": [
        {
          "output_type": "stream",
          "name": "stdout",
          "text": [
            "Eigenvalues: [98.16835147 28.097044   49.73460452]\n"
          ]
        }
      ]
    },
    {
      "cell_type": "code",
      "source": [
        "eigenvalues, eigenvectors = np.linalg.eig(n_array)\n",
        "print(\"Eigenvectors:\", eigenvectors)"
      ],
      "metadata": {
        "colab": {
          "base_uri": "https://localhost:8080/"
        },
        "id": "6msPML4BIyNY",
        "outputId": "70e0218d-b905-404d-c571-490debe8a70a"
      },
      "execution_count": 15,
      "outputs": [
        {
          "output_type": "stream",
          "name": "stdout",
          "text": [
            "Eigenvectors: [[ 0.4574917   0.34637121 -0.15017693]\n",
            " [ 0.28447814 -0.72784061 -0.4852124 ]\n",
            " [ 0.84248058  0.59184038  0.8614034 ]]\n"
          ]
        }
      ]
    },
    {
      "cell_type": "code",
      "source": [
        "inverse_matrix = np.linalg.inv(n_array)\n",
        "print(\"Inverse of matrix:\\n\", inverse_matrix)\n"
      ],
      "metadata": {
        "colab": {
          "base_uri": "https://localhost:8080/"
        },
        "id": "w7dTdWTHI3KP",
        "outputId": "c79e4a79-43f7-46ca-91a3-8f553dfd7051"
      },
      "execution_count": 16,
      "outputs": [
        {
          "output_type": "stream",
          "name": "stdout",
          "text": [
            "Inverse of matrix:\n",
            " [[ 0.02404141 -0.00911212 -0.00444671]\n",
            " [-0.01667882  0.02966905  0.0024785 ]\n",
            " [ 0.00631287 -0.01603732  0.01217379]]\n"
          ]
        }
      ]
    },
    {
      "cell_type": "code",
      "source": [
        "determinant = np.linalg.det(n_array)\n",
        "print(\"Determinant of matrix:\", determinant)"
      ],
      "metadata": {
        "colab": {
          "base_uri": "https://localhost:8080/"
        },
        "id": "bnQ_cczOI5R8",
        "outputId": "3f41253d-1689-4c7e-bfd1-c0603dc5b459"
      },
      "execution_count": 17,
      "outputs": [
        {
          "output_type": "stream",
          "name": "stdout",
          "text": [
            "Determinant of matrix: 137180.0000000001\n"
          ]
        }
      ]
    },
    {
      "cell_type": "code",
      "source": [
        "import numpy as np\n",
        "p = np.array([[1, 2], [2, 3]])\n",
        "q = np.array([[4, 5], [6, 7]])\n",
        "product = np.matmul(p, q)\n",
        "print(\"Matrix Multiplication:\\n\", product)"
      ],
      "metadata": {
        "colab": {
          "base_uri": "https://localhost:8080/"
        },
        "id": "OGzWB5irJI9l",
        "outputId": "9250c7e3-c559-454f-c9b2-b2387221b3ec"
      },
      "execution_count": 18,
      "outputs": [
        {
          "output_type": "stream",
          "name": "stdout",
          "text": [
            "Matrix Multiplication:\n",
            " [[16 19]\n",
            " [26 31]]\n"
          ]
        }
      ]
    },
    {
      "cell_type": "code",
      "source": [
        "cov = np.cov(p.flatten(), q.flatten())\n",
        "print(\"Covariance matrix:\\n\", cov)"
      ],
      "metadata": {
        "colab": {
          "base_uri": "https://localhost:8080/"
        },
        "id": "bC305RsxJdYK",
        "outputId": "67d317ac-e17f-4776-95b3-68d2cc6a64b4"
      },
      "execution_count": 19,
      "outputs": [
        {
          "output_type": "stream",
          "name": "stdout",
          "text": [
            "Covariance matrix:\n",
            " [[0.66666667 1.        ]\n",
            " [1.         1.66666667]]\n"
          ]
        }
      ]
    },
    {
      "cell_type": "code",
      "source": [
        "p = np.array([[1, 2], [2, 3], [4, 5]])\n",
        "q = np.array([[4, 5, 1], [6, 7, 2]])\n",
        "product = np.matmul(p, q)\n",
        "print(\"Matrix Multiplication:\\n\", product)\n",
        "cov = np.cov(p.flatten(), q.flatten())\n",
        "print(\"Covariance matrix:\\n\", cov)"
      ],
      "metadata": {
        "colab": {
          "base_uri": "https://localhost:8080/"
        },
        "id": "NglPLxvNJnPE",
        "outputId": "f6a21a5b-8db4-4b2b-b210-01f30ae57d09"
      },
      "execution_count": 20,
      "outputs": [
        {
          "output_type": "stream",
          "name": "stdout",
          "text": [
            "Matrix Multiplication:\n",
            " [[16 19  5]\n",
            " [26 31  8]\n",
            " [46 55 14]]\n",
            "Covariance matrix:\n",
            " [[2.16666667 0.23333333]\n",
            " [0.23333333 5.36666667]]\n"
          ]
        }
      ]
    },
    {
      "cell_type": "markdown",
      "source": [
        "Q.1(h)"
      ],
      "metadata": {
        "id": "J2z4YRpNJ-LX"
      }
    },
    {
      "cell_type": "code",
      "source": [
        "import numpy as np\n",
        "x = np.array([[2, 3, 4],\n",
        "              [3, 2, 9]])\n",
        "y = np.array([[1, 5, 0],\n",
        "              [5, 10, 3]])\n",
        "inner_product = np.inner(x, y)\n",
        "print(\"Inner Product:\\n\", inner_product)\n",
        "outer_product = np.outer(x, y)\n",
        "print(\"Outer Product:\\n\", outer_product)\n",
        "from itertools import product\n",
        "cartesian_product = np.array(list(product(x.flatten(), y.flatten())))\n",
        "print(\"Cartesian Product:\\n\", cartesian_product)"
      ],
      "metadata": {
        "colab": {
          "base_uri": "https://localhost:8080/"
        },
        "id": "V56gbgWoKCoI",
        "outputId": "87007a29-ea75-46cc-9aed-c6e653242904"
      },
      "execution_count": 21,
      "outputs": [
        {
          "output_type": "stream",
          "name": "stdout",
          "text": [
            "Inner Product:\n",
            " [[17 52]\n",
            " [13 62]]\n",
            "Outer Product:\n",
            " [[ 2 10  0 10 20  6]\n",
            " [ 3 15  0 15 30  9]\n",
            " [ 4 20  0 20 40 12]\n",
            " [ 3 15  0 15 30  9]\n",
            " [ 2 10  0 10 20  6]\n",
            " [ 9 45  0 45 90 27]]\n",
            "Cartesian Product:\n",
            " [[ 2  1]\n",
            " [ 2  5]\n",
            " [ 2  0]\n",
            " [ 2  5]\n",
            " [ 2 10]\n",
            " [ 2  3]\n",
            " [ 3  1]\n",
            " [ 3  5]\n",
            " [ 3  0]\n",
            " [ 3  5]\n",
            " [ 3 10]\n",
            " [ 3  3]\n",
            " [ 4  1]\n",
            " [ 4  5]\n",
            " [ 4  0]\n",
            " [ 4  5]\n",
            " [ 4 10]\n",
            " [ 4  3]\n",
            " [ 3  1]\n",
            " [ 3  5]\n",
            " [ 3  0]\n",
            " [ 3  5]\n",
            " [ 3 10]\n",
            " [ 3  3]\n",
            " [ 2  1]\n",
            " [ 2  5]\n",
            " [ 2  0]\n",
            " [ 2  5]\n",
            " [ 2 10]\n",
            " [ 2  3]\n",
            " [ 9  1]\n",
            " [ 9  5]\n",
            " [ 9  0]\n",
            " [ 9  5]\n",
            " [ 9 10]\n",
            " [ 9  3]]\n"
          ]
        }
      ]
    },
    {
      "cell_type": "markdown",
      "source": [
        "Q.2(a)"
      ],
      "metadata": {
        "id": "AMyxu-2JKkfa"
      }
    },
    {
      "cell_type": "code",
      "source": [
        "import numpy as np\n",
        "array = np.array([[1, -2, 3],\n",
        "                  [-4, 5, -6]])\n",
        "abs_array = np.abs(array)\n",
        "print(\"Absolute Value:\\n\", abs_array)\n",
        "flat = array.flatten()\n",
        "p_flat = np.percentile(flat, [25, 50, 75])\n",
        "print(\"Percentiles of flattened array (25th, 50th, 75th):\", p_flat)\n",
        "p_col = np.percentile(array, [25, 50, 75], axis=0)\n",
        "print(\"Percentiles for each column (rows 25th, 50th, 75th):\\n\", p_col)\n",
        "p_row = np.percentile(array, [25, 50, 75], axis=1)\n",
        "print(\"Percentiles for each row (rows 25th, 50th, 75th):\\n\", p_row)\n"
      ],
      "metadata": {
        "colab": {
          "base_uri": "https://localhost:8080/"
        },
        "id": "tDRadmSxKxwA",
        "outputId": "702f0791-b0be-4459-d163-b6fa84ba7226"
      },
      "execution_count": 22,
      "outputs": [
        {
          "output_type": "stream",
          "name": "stdout",
          "text": [
            "Absolute Value:\n",
            " [[1 2 3]\n",
            " [4 5 6]]\n",
            "Percentiles of flattened array (25th, 50th, 75th): [-3.5 -0.5  2.5]\n",
            "Percentiles for each column (rows 25th, 50th, 75th):\n",
            " [[-2.75 -0.25 -3.75]\n",
            " [-1.5   1.5  -1.5 ]\n",
            " [-0.25  3.25  0.75]]\n",
            "Percentiles for each row (rows 25th, 50th, 75th):\n",
            " [[-0.5 -5. ]\n",
            " [ 1.  -4. ]\n",
            " [ 2.   0.5]]\n"
          ]
        }
      ]
    },
    {
      "cell_type": "code",
      "source": [
        "mean_flat = np.mean(flat)\n",
        "median_flat = np.median(flat)\n",
        "std_flat = np.std(flat)\n",
        "print(\"Flattened array - Mean:\", mean_flat)\n",
        "print(\"Flattened array - Median:\", median_flat)\n",
        "print(\"Flattened array - Std Dev:\", std_flat)\n"
      ],
      "metadata": {
        "colab": {
          "base_uri": "https://localhost:8080/"
        },
        "id": "k9rhoqKpLDCB",
        "outputId": "95c9caf5-bd0e-4f1f-b4ab-742f1f408efb"
      },
      "execution_count": 23,
      "outputs": [
        {
          "output_type": "stream",
          "name": "stdout",
          "text": [
            "Flattened array - Mean: -0.5\n",
            "Flattened array - Median: -0.5\n",
            "Flattened array - Std Dev: 3.8622100754188224\n"
          ]
        }
      ]
    },
    {
      "cell_type": "code",
      "source": [
        "mean_col = np.mean(array, axis=0)\n",
        "median_col = np.median(array, axis=0)\n",
        "std_col = np.std(array, axis=0)\n",
        "print(\"Column-wise Mean:\", mean_col)\n",
        "print(\"Column-wise Median:\", median_col)\n",
        "print(\"Column-wise Std Dev:\", std_col)"
      ],
      "metadata": {
        "colab": {
          "base_uri": "https://localhost:8080/"
        },
        "id": "1bfw2X1LLRYP",
        "outputId": "853ada8c-bc73-4e8d-9e45-2439839e6cbf"
      },
      "execution_count": 24,
      "outputs": [
        {
          "output_type": "stream",
          "name": "stdout",
          "text": [
            "Column-wise Mean: [-1.5  1.5 -1.5]\n",
            "Column-wise Median: [-1.5  1.5 -1.5]\n",
            "Column-wise Std Dev: [2.5 3.5 4.5]\n"
          ]
        }
      ]
    },
    {
      "cell_type": "code",
      "source": [
        "mean_row = np.mean(array, axis=1)\n",
        "median_row = np.median(array, axis=1)\n",
        "std_row = np.std(array, axis=1)\n",
        "print(\"Row-wise Mean:\", mean_row)\n",
        "print(\"Row-wise Median:\", median_row)\n",
        "print(\"Row-wise Std Dev:\", std_row)\n"
      ],
      "metadata": {
        "colab": {
          "base_uri": "https://localhost:8080/"
        },
        "id": "uFh0AkJ7LXzO",
        "outputId": "0f9999fe-8c89-442e-fdea-20395f2cdbc1"
      },
      "execution_count": 25,
      "outputs": [
        {
          "output_type": "stream",
          "name": "stdout",
          "text": [
            "Row-wise Mean: [ 0.66666667 -1.66666667]\n",
            "Row-wise Median: [ 1. -4.]\n",
            "Row-wise Std Dev: [2.05480467 4.78423336]\n"
          ]
        }
      ]
    },
    {
      "cell_type": "code",
      "source": [
        "a = np.array([-1.8, -1.6, -0.5, 0.5, 1.6, 1.8, 3.0])\n",
        "np.floor(a)\n",
        "np.ceil(a)\n",
        "np.trunc(a)\n",
        "np.round(a)"
      ],
      "metadata": {
        "colab": {
          "base_uri": "https://localhost:8080/"
        },
        "id": "F6wWRzjqLw4F",
        "outputId": "f1b569b2-0c38-48e0-ad67-9d8e8c6cf0eb"
      },
      "execution_count": 26,
      "outputs": [
        {
          "output_type": "execute_result",
          "data": {
            "text/plain": [
              "array([-2., -2., -0.,  0.,  2.,  2.,  3.])"
            ]
          },
          "metadata": {},
          "execution_count": 26
        }
      ]
    },
    {
      "cell_type": "markdown",
      "source": [
        "Q.3(a)"
      ],
      "metadata": {
        "id": "nuGsPUwyMCtn"
      }
    },
    {
      "cell_type": "code",
      "source": [
        "array = np.array([10, 52, 62, 16, 16, 54, 453])\n",
        "np.sort(array)\n",
        "np.argsort(array)\n",
        "np.sort(array)[:4]\n",
        "np.sort(array)[-5:]"
      ],
      "metadata": {
        "colab": {
          "base_uri": "https://localhost:8080/"
        },
        "id": "KHMYP02DMHGW",
        "outputId": "8c67e844-2ff1-4689-b898-456812e689bd"
      },
      "execution_count": 27,
      "outputs": [
        {
          "output_type": "execute_result",
          "data": {
            "text/plain": [
              "array([ 16,  52,  54,  62, 453])"
            ]
          },
          "metadata": {},
          "execution_count": 27
        }
      ]
    },
    {
      "cell_type": "markdown",
      "source": [
        "Q.3(b)"
      ],
      "metadata": {
        "id": "yiQgihkDMX_Q"
      }
    },
    {
      "cell_type": "code",
      "source": [
        "array = np.array([1.0, 1.2, 2.2, 2.0, 3.0, 2.0])\n",
        "array[array % 1 == 0]\n",
        "array[array % 1 != 0]"
      ],
      "metadata": {
        "colab": {
          "base_uri": "https://localhost:8080/"
        },
        "id": "9-Kg-OEGMWvZ",
        "outputId": "ca4188e8-bf7a-4b70-c861-df2a5a39c2d4"
      },
      "execution_count": 28,
      "outputs": [
        {
          "output_type": "execute_result",
          "data": {
            "text/plain": [
              "array([1.2, 2.2])"
            ]
          },
          "metadata": {},
          "execution_count": 28
        }
      ]
    },
    {
      "cell_type": "markdown",
      "source": [
        "Q.4(a)"
      ],
      "metadata": {
        "id": "isQPJFm3Noj9"
      }
    },
    {
      "cell_type": "code",
      "source": [],
      "metadata": {
        "id": "1MCD9mg5NtyX"
      },
      "execution_count": 29,
      "outputs": []
    }
  ]
}